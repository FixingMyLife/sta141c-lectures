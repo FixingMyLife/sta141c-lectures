{
 "cells": [
  {
   "cell_type": "markdown",
   "metadata": {
    "slideshow": {
     "slide_type": "notes"
    },
    "toc": true
   },
   "source": [
    "<h1>Table of Contents<span class=\"tocSkip\"></span></h1>\n",
    "<div class=\"toc\"><ul class=\"toc-item\"><li><span><a href=\"#Introduction-to-Julia\" data-toc-modified-id=\"Introduction-to-Julia-1\"><span class=\"toc-item-num\">1&nbsp;&nbsp;</span>Introduction to Julia</a></span><ul class=\"toc-item\"><li><span><a href=\"#the-programming-language-for-21-Century\" data-toc-modified-id=\"the-programming-language-for-21-Century-1.1\"><span class=\"toc-item-num\">1.1&nbsp;&nbsp;</span>the programming language for 21 Century</a></span></li><li><span><a href=\"#Assumption\" data-toc-modified-id=\"Assumption-1.2\"><span class=\"toc-item-num\">1.2&nbsp;&nbsp;</span>Assumption</a></span></li><li><span><a href=\"#What-is-Julia?\" data-toc-modified-id=\"What-is-Julia?-1.3\"><span class=\"toc-item-num\">1.3&nbsp;&nbsp;</span>What is Julia?</a></span><ul class=\"toc-item\"><li><span><a href=\"#How-does-Julia-look-like?\" data-toc-modified-id=\"How-does-Julia-look-like?-1.3.1\"><span class=\"toc-item-num\">1.3.1&nbsp;&nbsp;</span>How does Julia look like?</a></span></li><li><span><a href=\"#How-does-Julia-look-like?\" data-toc-modified-id=\"How-does-Julia-look-like?-1.3.2\"><span class=\"toc-item-num\">1.3.2&nbsp;&nbsp;</span>How does Julia look like?</a></span></li></ul></li><li><span><a href=\"#Why-do-I-need-to-know-about-it?\" data-toc-modified-id=\"Why-do-I-need-to-know-about-it?-1.4\"><span class=\"toc-item-num\">1.4&nbsp;&nbsp;</span>Why do I need to know about it?</a></span><ul class=\"toc-item\"><li><span><a href=\"#MATLAB-users:-don't-get-happy-too-early\" data-toc-modified-id=\"MATLAB-users:-don't-get-happy-too-early-1.4.1\"><span class=\"toc-item-num\">1.4.1&nbsp;&nbsp;</span>MATLAB users: don't get happy too early</a></span></li></ul></li><li><span><a href=\"#Why-does-Julia-work-so-well?\" data-toc-modified-id=\"Why-does-Julia-work-so-well?-1.5\"><span class=\"toc-item-num\">1.5&nbsp;&nbsp;</span>Why does Julia work so well?</a></span><ul class=\"toc-item\"><li><span><a href=\"#How-can-multiple-dispatch-speed-up-the-computation?-Consider-this,\" data-toc-modified-id=\"How-can-multiple-dispatch-speed-up-the-computation?-Consider-this,-1.5.1\"><span class=\"toc-item-num\">1.5.1&nbsp;&nbsp;</span>How can multiple dispatch speed up the computation? Consider this,</a></span></li></ul></li><li><span><a href=\"#Language-features-of-R,-Matlab-and-Julia\" data-toc-modified-id=\"Language-features-of-R,-Matlab-and-Julia-1.6\"><span class=\"toc-item-num\">1.6&nbsp;&nbsp;</span>Language features of R, Matlab and Julia</a></span></li><li><span><a href=\"#Parallel-Computing-support\" data-toc-modified-id=\"Parallel-Computing-support-1.7\"><span class=\"toc-item-num\">1.7&nbsp;&nbsp;</span>Parallel Computing support</a></span><ul class=\"toc-item\"><li><span><a href=\"#Multi-threading\" data-toc-modified-id=\"Multi-threading-1.7.1\"><span class=\"toc-item-num\">1.7.1&nbsp;&nbsp;</span>Multi threading</a></span></li><li><span><a href=\"#Doing-distributed-calcuations\" data-toc-modified-id=\"Doing-distributed-calcuations-1.7.2\"><span class=\"toc-item-num\">1.7.2&nbsp;&nbsp;</span>Doing distributed calcuations</a></span></li></ul></li><li><span><a href=\"#I-really-miss-R\" data-toc-modified-id=\"I-really-miss-R-1.8\"><span class=\"toc-item-num\">1.8&nbsp;&nbsp;</span>I really miss R</a></span><ul class=\"toc-item\"><li><span><a href=\"#Running-R-code-in-Julia\" data-toc-modified-id=\"Running-R-code-in-Julia-1.8.1\"><span class=\"toc-item-num\">1.8.1&nbsp;&nbsp;</span>Running R code in Julia</a></span></li></ul></li><li><span><a href=\"#Summary\" data-toc-modified-id=\"Summary-1.9\"><span class=\"toc-item-num\">1.9&nbsp;&nbsp;</span>Summary</a></span></li></ul></li></ul></div>"
   ]
  },
  {
   "cell_type": "markdown",
   "metadata": {
    "slideshow": {
     "slide_type": "slide"
    }
   },
   "source": [
    "# Introduction to Julia"
   ]
  },
  {
   "cell_type": "markdown",
   "metadata": {},
   "source": [
    "## the programming language for 21 Century"
   ]
  },
  {
   "cell_type": "markdown",
   "metadata": {},
   "source": [
    "by Randy Lai"
   ]
  },
  {
   "cell_type": "markdown",
   "metadata": {
    "slideshow": {
     "slide_type": "slide"
    }
   },
   "source": [
    "## Assumption"
   ]
  },
  {
   "cell_type": "markdown",
   "metadata": {},
   "source": [
    "I assume you know at least one of them\n",
    "- Python\n",
    "- R\n",
    "- MATLAB"
   ]
  },
  {
   "cell_type": "markdown",
   "metadata": {
    "slideshow": {
     "slide_type": "slide"
    }
   },
   "source": [
    "## What is Julia?"
   ]
  },
  {
   "cell_type": "markdown",
   "metadata": {},
   "source": [
    "<img src=\"julialogo.png\" width=100> </img>\n",
    "\n",
    "- a new programming language for scientific computing (5 years old)\n",
    "    - R (24 years old)\n",
    "    - Python (26 years old)\n",
    "    - MATLAB (33 years old)\n",
    "- developed by a (young) group mostly from MIT\n",
    "- open source\n",
    "- AFAIK, Julia is not named after any girl."
   ]
  },
  {
   "cell_type": "markdown",
   "metadata": {
    "slideshow": {
     "slide_type": "slide"
    }
   },
   "source": [
    "### How does Julia look like?\n",
    "\n"
   ]
  },
  {
   "cell_type": "markdown",
   "metadata": {
    "slideshow": {
     "slide_type": "fragment"
    }
   },
   "source": [
    "<img src=\"juliaroberts.jpeg\"> </img>\n",
    "\n",
    "Julia Roberts"
   ]
  },
  {
   "cell_type": "markdown",
   "metadata": {
    "slideshow": {
     "slide_type": "subslide"
    }
   },
   "source": [
    "### How does Julia look like?"
   ]
  },
  {
   "cell_type": "code",
   "execution_count": 1,
   "metadata": {},
   "outputs": [
    {
     "name": "stdout",
     "output_type": "stream",
     "text": [
      "[4.0, 1.0, 12.0, 0.8]"
     ]
    }
   ],
   "source": [
    "a = 2 + 2\n",
    "b = a - 3\n",
    "c = a * 3\n",
    "d = 4 / 5  # life saver\n",
    "print([a; b; c; d])"
   ]
  },
  {
   "cell_type": "markdown",
   "metadata": {
    "slideshow": {
     "slide_type": "-"
    }
   },
   "source": [
    "It is designed to do math.\n",
    "\n",
    "Use unicodes and greek letters as variables"
   ]
  },
  {
   "cell_type": "code",
   "execution_count": 2,
   "metadata": {
    "slideshow": {
     "slide_type": "-"
    }
   },
   "outputs": [
    {
     "data": {
      "text/plain": [
       "0.24197072451914337"
      ]
     },
     "execution_count": 2,
     "metadata": {},
     "output_type": "execute_result"
    }
   ],
   "source": [
    "ϕ(x̅; μ=0, σ²=1) = exp( -(x̅ - μ)^2 / 2σ²) / √(2π * σ²)\n",
    "ϕ(1)"
   ]
  },
  {
   "cell_type": "markdown",
   "metadata": {},
   "source": [
    "Do not need replace σ² by `sigmasq`"
   ]
  },
  {
   "cell_type": "code",
   "execution_count": 45,
   "metadata": {
    "slideshow": {
     "slide_type": "subslide"
    }
   },
   "outputs": [
    {
     "data": {
      "text/html": [
       "9"
      ],
      "text/plain": [
       "9"
      ]
     },
     "execution_count": 45,
     "metadata": {},
     "output_type": "execute_result"
    }
   ],
   "source": [
    "f(x) = x^2\n",
    "g(y) = y + 1\n",
    "h = f ∘ g;\n",
    "h(2)"
   ]
  },
  {
   "cell_type": "code",
   "execution_count": 4,
   "metadata": {},
   "outputs": [
    {
     "data": {
      "text/plain": [
       "10000"
      ]
     },
     "execution_count": 4,
     "metadata": {},
     "output_type": "execute_result"
    }
   ],
   "source": [
    "10_000"
   ]
  },
  {
   "cell_type": "code",
   "execution_count": 5,
   "metadata": {},
   "outputs": [
    {
     "data": {
      "text/plain": [
       "5.0e-9"
      ]
     },
     "execution_count": 5,
     "metadata": {},
     "output_type": "execute_result"
    }
   ],
   "source": [
    "0.000_000_005"
   ]
  },
  {
   "cell_type": "markdown",
   "metadata": {
    "slideshow": {
     "slide_type": "fragment"
    }
   },
   "source": [
    "A beer costs $5. How much are two beers?"
   ]
  },
  {
   "cell_type": "code",
   "execution_count": 6,
   "metadata": {
    "slideshow": {
     "slide_type": "fragment"
    }
   },
   "outputs": [
    {
     "data": {
      "text/plain": [
       "10"
      ]
     },
     "execution_count": 6,
     "metadata": {},
     "output_type": "execute_result"
    }
   ],
   "source": [
    "🍺 = 5\n",
    "🍻 = 2🍺"
   ]
  },
  {
   "cell_type": "markdown",
   "metadata": {},
   "source": [
    "Yes! Julia supports Emojis as variables too."
   ]
  },
  {
   "cell_type": "markdown",
   "metadata": {
    "collapsed": true,
    "slideshow": {
     "slide_type": "slide"
    }
   },
   "source": [
    "## Why do I need to know about it?"
   ]
  },
  {
   "cell_type": "markdown",
   "metadata": {},
   "source": [
    "(it just looks fancy to me)"
   ]
  },
  {
   "cell_type": "markdown",
   "metadata": {
    "slideshow": {
     "slide_type": "fragment"
    }
   },
   "source": [
    "|                        Test                        | R 3.3.2 | Matlab R2017a | Julia 0.5.1 |\n",
    "|:-------------------------------------------------- |:-------:|:-------------:|:-----------:|\n",
    "| Matrix creation, trans., deform. (2500 x 2500) |   0.70  |      **0.13**     |   0.22  |\n",
    "|      Power of matrix (2500 x 2500, `A.^1000`)      |   0.17  |    **0.10**   |     0.11    |\n",
    "|          Quick sort ($n = 7 \\times 10^6$)          |   0.69  |    **0.30**   |     0.62    |\n",
    "|         Cross product (2800 x 2800, $A^TA$)        |  13.49  |    **0.18**   |  0.21  |\n",
    "|            LS solution ($n = p = 2000$)            |   6.42  |    **0.07**   |     **0.07**    |\n",
    "|                FFT ($n = 2,400,000$)               |   0.25  |    **0.03**   |     0.16    |\n",
    "|           Eigen-values ($600 \\times 600$)          |   0.71  |    **0.22**   |     0.51    |\n",
    "|          Determinant ($2500 \\times 2500$)          |   3.49  |      0.19     |   **0.14**  |\n",
    "|            Cholesky ($3000 \\times 3000$)           |   5.03  |    **0.08**   |     0.16    |\n",
    "|         Matrix inverse ($1600 \\times 1600$)        |   2.83  |    **0.11**   |     0.18    |\n",
    "|           Fibonacci (vector calculation)           |   0.22  |    **0.16**   |     0.58    |\n",
    "|            Hilbert (matrix calculation)            |   0.21  |      0.07     |   **0.06**  |\n",
    "|                   GCD (recursion)                  |   0.33  |    **0.09**     |   0.13  |\n",
    "|               Toeplitz matrix (loops)              |   0.28  |     0.0012    |  **0.0007** |\n",
    "|                 Escoufiers (mixed)                 |   0.33  |      0.15     |   **0.14**  |\n",
    "\n",
    "\n",
    "(from Hau Zhou: http://hua-zhou.github.io/)"
   ]
  },
  {
   "cell_type": "markdown",
   "metadata": {
    "slideshow": {
     "slide_type": "subslide"
    }
   },
   "source": [
    "### MATLAB users: don't get happy too early"
   ]
  },
  {
   "cell_type": "markdown",
   "metadata": {},
   "source": [
    "<img src=\"benchmark2.png\" width=\"800px\" align=\"center\"> </img>"
   ]
  },
  {
   "cell_type": "markdown",
   "metadata": {
    "slideshow": {
     "slide_type": "slide"
    }
   },
   "source": [
    "## Why does Julia work so well?"
   ]
  },
  {
   "cell_type": "markdown",
   "metadata": {},
   "source": [
    "1. Just in time (JIT)\n",
    "\n",
    "    every statement is run using compiled functions\n",
    "    \n",
    "2. type stability via multiple dispatch\n",
    "\n",
    "    allows Julia to be very easy for a compiler to generate efficient code"
   ]
  },
  {
   "cell_type": "markdown",
   "metadata": {
    "slideshow": {
     "slide_type": "subslide"
    }
   },
   "source": [
    "Just in time (JIT)"
   ]
  },
  {
   "cell_type": "code",
   "execution_count": 7,
   "metadata": {
    "slideshow": {
     "slide_type": "-"
    }
   },
   "outputs": [
    {
     "name": "stdout",
     "output_type": "stream",
     "text": [
      "  0.042155 seconds (9.81 k allocations: 557.752 KiB)\n",
      "  0.000002 seconds (5 allocations: 176 bytes)\n"
     ]
    }
   ],
   "source": [
    "x = randn(100)\n",
    "@time sum(x); # first call invokes compilation\n",
    "@time sum(x); # second run doesn't need compilation anymore"
   ]
  },
  {
   "cell_type": "code",
   "execution_count": 47,
   "metadata": {
    "slideshow": {
     "slide_type": "-"
    }
   },
   "outputs": [
    {
     "name": "stdout",
     "output_type": "stream",
     "text": [
      "\t.section\t__TEXT,__text,regular,pure_instructions\n",
      "Filename: reduce.jl\n",
      "\tpushq\t%rbp\n",
      "\tmovq\t%rsp, %rbp\n",
      "Source line: 359\n",
      "\tcallq\t\"indices;\"\n",
      "\tpopq\t%rbp\n",
      "\tretq\n",
      "Source line: 359\n",
      "\tnopl\t(%rax,%rax)\n"
     ]
    }
   ],
   "source": [
    "@code_native sum(x)"
   ]
  },
  {
   "cell_type": "markdown",
   "metadata": {
    "slideshow": {
     "slide_type": "subslide"
    }
   },
   "source": [
    "Multiple dispatch"
   ]
  },
  {
   "cell_type": "code",
   "execution_count": 9,
   "metadata": {},
   "outputs": [
    {
     "data": {
      "text/plain": [
       "foo (generic function with 2 methods)"
      ]
     },
     "execution_count": 9,
     "metadata": {},
     "output_type": "execute_result"
    }
   ],
   "source": [
    "foo(x::Int) = \"apple\"\n",
    "foo(x::Float64) = \"orange\""
   ]
  },
  {
   "cell_type": "code",
   "execution_count": 10,
   "metadata": {},
   "outputs": [
    {
     "data": {
      "text/plain": [
       "\"apple\""
      ]
     },
     "execution_count": 10,
     "metadata": {},
     "output_type": "execute_result"
    }
   ],
   "source": [
    "foo(1)"
   ]
  },
  {
   "cell_type": "code",
   "execution_count": 11,
   "metadata": {},
   "outputs": [
    {
     "data": {
      "text/plain": [
       "\"orange\""
      ]
     },
     "execution_count": 11,
     "metadata": {},
     "output_type": "execute_result"
    }
   ],
   "source": [
    "foo(2.0)"
   ]
  },
  {
   "cell_type": "markdown",
   "metadata": {
    "slideshow": {
     "slide_type": "subslide"
    }
   },
   "source": [
    "### How can multiple dispatch speed up the computation? Consider this,"
   ]
  },
  {
   "cell_type": "code",
   "execution_count": 4,
   "metadata": {},
   "outputs": [
    {
     "data": {
      "text/plain": [
       "pow (generic function with 1 method)"
      ]
     },
     "execution_count": 4,
     "metadata": {},
     "output_type": "execute_result"
    }
   ],
   "source": [
    "pow(x, y) = x^y"
   ]
  },
  {
   "cell_type": "code",
   "execution_count": 5,
   "metadata": {},
   "outputs": [
    {
     "data": {
      "text/plain": [
       "4"
      ]
     },
     "execution_count": 5,
     "metadata": {},
     "output_type": "execute_result"
    }
   ],
   "source": [
    "pow(2, 2)"
   ]
  },
  {
   "cell_type": "code",
   "execution_count": 6,
   "metadata": {},
   "outputs": [
    {
     "data": {
      "text/plain": [
       "4.0"
      ]
     },
     "execution_count": 6,
     "metadata": {},
     "output_type": "execute_result"
    }
   ],
   "source": [
    "pow(2.0, 2.0)"
   ]
  },
  {
   "cell_type": "code",
   "execution_count": 9,
   "metadata": {},
   "outputs": [],
   "source": [
    "# pow(2, -2)"
   ]
  },
  {
   "cell_type": "markdown",
   "metadata": {
    "slideshow": {
     "slide_type": "subslide"
    }
   },
   "source": [
    "Type stability is one crucial feature which separates Julia apart from other scripting languages."
   ]
  },
  {
   "cell_type": "code",
   "execution_count": 55,
   "metadata": {
    "scrolled": true,
    "slideshow": {
     "slide_type": "-"
    }
   },
   "outputs": [
    {
     "name": "stdout",
     "output_type": "stream",
     "text": [
      "\n",
      "define i64 @\"jlsys_^_53303\"(i64, i64) #0 !dbg !5 {\n",
      "top:\n",
      "  %2 = call i64 @jlsys_power_by_squaring_53305(i64 %0, i64 %1)\n",
      "  ret i64 %2\n",
      "}\n"
     ]
    }
   ],
   "source": [
    "@code_llvm 2^2"
   ]
  },
  {
   "cell_type": "code",
   "execution_count": 17,
   "metadata": {},
   "outputs": [
    {
     "name": "stdout",
     "output_type": "stream",
     "text": [
      "\n",
      "define double @\"jlsys_^_53315\"(double, double) #0 !dbg !5 {\n",
      "top:\n",
      "  %2 = call double @llvm.pow.f64(double %0, double %1)\n",
      "  %3 = fadd double %0, %1\n",
      "  %notlhs = fcmp ord double %2, 0.000000e+00\n",
      "  %notrhs = fcmp uno double %3, 0.000000e+00\n",
      "  %4 = or i1 %notrhs, %notlhs\n",
      "  br i1 %4, label %L8, label %if\n",
      "\n",
      "if:                                               ; preds = %top\n",
      "  call void @jl_throw(i8** inttoptr (i64 4555392968 to i8**))\n",
      "  unreachable\n",
      "\n",
      "L8:                                               ; preds = %top\n",
      "  ret double %2\n",
      "}\n"
     ]
    }
   ],
   "source": [
    "@code_llvm 2.0^2.0"
   ]
  },
  {
   "cell_type": "markdown",
   "metadata": {
    "slideshow": {
     "slide_type": "slide"
    }
   },
   "source": [
    "If you insist, you may consider the following safe option."
   ]
  },
  {
   "cell_type": "code",
   "execution_count": 3,
   "metadata": {},
   "outputs": [
    {
     "data": {
      "text/plain": [
       "safe_pow (generic function with 1 method)"
      ]
     },
     "execution_count": 3,
     "metadata": {},
     "output_type": "execute_result"
    }
   ],
   "source": [
    "function safe_pow(x, y)\n",
    "    if y > 0\n",
    "        x^y\n",
    "    else\n",
    "        Float64(x)^y\n",
    "    end\n",
    "end"
   ]
  },
  {
   "cell_type": "code",
   "execution_count": 19,
   "metadata": {},
   "outputs": [
    {
     "data": {
      "text/plain": [
       "0.25"
      ]
     },
     "execution_count": 19,
     "metadata": {},
     "output_type": "execute_result"
    }
   ],
   "source": [
    "safe_pow(2, -2)  # it is what python/R offer"
   ]
  },
  {
   "cell_type": "code",
   "execution_count": 57,
   "metadata": {},
   "outputs": [],
   "source": [
    "#@code_llvm safe_pow(2, -2)"
   ]
  },
  {
   "cell_type": "markdown",
   "metadata": {
    "slideshow": {
     "slide_type": "slide"
    }
   },
   "source": [
    "## Language features of R, Matlab and Julia"
   ]
  },
  {
   "cell_type": "markdown",
   "metadata": {},
   "source": [
    "|        Features       |             R            |     Matlab     |        Julia        |\n",
    "|:---------------------:|:------------------------:|:--------------:|:-------------------:|\n",
    "|      Open source      |           👍         |      👎      |         👍        |\n",
    "|          IDE          |    RStudio 👍 👍     | 👍 👍 👍 |    Atom+Juno 👎   |\n",
    "|    Dynamic document   | RMarkdown 👍 👍 👍 |    👍 👍   |   IJulia + Jupyter 👍 👍  |\n",
    "|          JIT          |    `compiler` 👎  |    👍 👍   |    👍 👍 👍   |\n",
    "|     Call C/Fortran    |      wrapper, `Rcpp`     |     wrapper    | direct call |\n",
    "|         Type system        |           👎           |    👍 👍   |    👍 👍 👍   |\n",
    "|   Pass by reference   |           👎           |      👎      |    👍 👍 👍   |\n",
    "|     Linear algebra    |           👎           |   MKL, Arpack  |  OpenBLAS, eigpack  |\n",
    "|    Multi-threading    |    `parallel` 👎  |      👍      |  👍 👍  |\n",
    "| Distributed computing |           👎           |      👍      |    👍 👍 👍   |\n",
    "| Sparse linear algebra |  `Matrix` package 👎   | 👍 👍 👍 |    👍 👍 👍   |\n",
    "|     Documentation     |           👎           | 👍 👍 👍 |      👍 👍      |\n",
    "|        Profiler       |           👎           | 👍 👍 👍 |    👍 👍 👍   |\n",
    "\n",
    "(from Hau Zhou: http://hua-zhou.github.io/)"
   ]
  },
  {
   "cell_type": "markdown",
   "metadata": {
    "slideshow": {
     "slide_type": "slide"
    }
   },
   "source": [
    "## Parallel Computing support"
   ]
  },
  {
   "cell_type": "markdown",
   "metadata": {},
   "source": [
    "Julia makes parallel computing very easy."
   ]
  },
  {
   "cell_type": "markdown",
   "metadata": {},
   "source": [
    "### Multi threading"
   ]
  },
  {
   "cell_type": "code",
   "execution_count": 58,
   "metadata": {},
   "outputs": [],
   "source": [
    "addprocs(4);  # add 4 processes"
   ]
  },
  {
   "cell_type": "markdown",
   "metadata": {},
   "source": [
    "We may have an expensive call to evaluate and it may take up to 4 seconds."
   ]
  },
  {
   "cell_type": "code",
   "execution_count": 22,
   "metadata": {},
   "outputs": [
    {
     "data": {
      "text/plain": [
       "100"
      ]
     },
     "execution_count": 22,
     "metadata": {},
     "output_type": "execute_result"
    }
   ],
   "source": [
    "r = @spawn begin \n",
    "    sleep(4)  # pretend that it is very expensive command\n",
    "    return 2017\n",
    "end\n",
    "# while the call is evaluated in other thread,\n",
    "# you are free to do anything now\n",
    "x = 100"
   ]
  },
  {
   "cell_type": "code",
   "execution_count": 23,
   "metadata": {},
   "outputs": [
    {
     "data": {
      "text/plain": [
       "2017"
      ]
     },
     "execution_count": 23,
     "metadata": {},
     "output_type": "execute_result"
    }
   ],
   "source": [
    "fetch(r)"
   ]
  },
  {
   "cell_type": "markdown",
   "metadata": {
    "slideshow": {
     "slide_type": "subslide"
    }
   },
   "source": [
    "### Doing distributed calcuations"
   ]
  },
  {
   "cell_type": "markdown",
   "metadata": {},
   "source": [
    "Say for example, we have 4 tasks to do and each task takes 1 second.\n",
    "\n",
    "A regular for loop needs about 4 seconds to complete the job."
   ]
  },
  {
   "cell_type": "code",
   "execution_count": 24,
   "metadata": {},
   "outputs": [
    {
     "name": "stdout",
     "output_type": "stream",
     "text": [
      "  4.013434 seconds (814 allocations: 45.234 KiB)\n"
     ]
    }
   ],
   "source": [
    "@time for i = 1:4\n",
    "    sleep(1) \n",
    "end"
   ]
  },
  {
   "cell_type": "markdown",
   "metadata": {},
   "source": [
    "With parallel computing"
   ]
  },
  {
   "cell_type": "code",
   "execution_count": 25,
   "metadata": {
    "slideshow": {
     "slide_type": "-"
    }
   },
   "outputs": [
    {
     "name": "stdout",
     "output_type": "stream",
     "text": [
      "  1.586171 seconds (92.09 k allocations: 5.092 MiB)\n"
     ]
    },
    {
     "data": {
      "text/plain": [
       "4-element Array{Future,1}:\n",
       " Future(3, 1, 8, #NULL) \n",
       " Future(4, 1, 9, #NULL) \n",
       " Future(5, 1, 10, #NULL)\n",
       " Future(2, 1, 11, #NULL)"
      ]
     },
     "execution_count": 25,
     "metadata": {},
     "output_type": "execute_result"
    }
   ],
   "source": [
    "@time @sync @parallel for i = 1:4\n",
    "    sleep(1)\n",
    "end"
   ]
  },
  {
   "cell_type": "markdown",
   "metadata": {
    "slideshow": {
     "slide_type": "slide"
    }
   },
   "source": [
    "## I really miss R"
   ]
  },
  {
   "cell_type": "markdown",
   "metadata": {},
   "source": [
    "No worries, there are RCall.jl\n",
    "\n",
    "Caveats: \n",
    "- I don't really use MATLAB, cannot tell you how good MATLAB.jl is."
   ]
  },
  {
   "cell_type": "markdown",
   "metadata": {
    "slideshow": {
     "slide_type": "fragment"
    }
   },
   "source": [
    "- RCall.jl works very well."
   ]
  },
  {
   "cell_type": "markdown",
   "metadata": {
    "slideshow": {
     "slide_type": "fragment"
    }
   },
   "source": [
    "- I am one of the developers of RCall."
   ]
  },
  {
   "cell_type": "markdown",
   "metadata": {
    "slideshow": {
     "slide_type": "slide"
    }
   },
   "source": [
    "### Running R code in Julia"
   ]
  },
  {
   "cell_type": "markdown",
   "metadata": {},
   "source": [
    "You could execute any R code inside \n",
    "```\n",
    "R\"<r code here>\"\n",
    "```"
   ]
  },
  {
   "cell_type": "code",
   "execution_count": 11,
   "metadata": {
    "slideshow": {
     "slide_type": "-"
    }
   },
   "outputs": [
    {
     "data": {
      "text/plain": [
       "4.77"
      ]
     },
     "execution_count": 11,
     "metadata": {},
     "output_type": "execute_result"
    }
   ],
   "source": [
    "using RCall\n",
    "using Statistics\n",
    "\n",
    "x = rcopy(R\"rpois(100, 5)\")\n",
    "mean(x)"
   ]
  },
  {
   "cell_type": "markdown",
   "metadata": {
    "slideshow": {
     "slide_type": "subslide"
    }
   },
   "source": [
    "- Plots.jl is good, but very slow to start up + I like `ggplot` of R"
   ]
  },
  {
   "cell_type": "code",
   "execution_count": 18,
   "metadata": {},
   "outputs": [],
   "source": [
    "using DataFrames\n",
    "x = randn(100)\n",
    "y = 3 .+ 2x.^2 - 4x.^3 + 10. * randn(100)\n",
    "D = DataFrame(x = x, y = y);"
   ]
  },
  {
   "cell_type": "code",
   "execution_count": 19,
   "metadata": {},
   "outputs": [
    {
     "data": {
      "image/png": "[encoded data removed]"
     },
     "metadata": {},
     "output_type": "display_data"
    },
    {
     "data": {
      "text/plain": [
       "RObject{VecSxp}\n"
      ]
     },
     "execution_count": 19,
     "metadata": {},
     "output_type": "execute_result"
    },
    {
     "name": "stderr",
     "output_type": "stream",
     "text": [
      "┌ Warning: RCall.jl: `geom_smooth()` using method = 'loess' and formula 'y ~ x'\n",
      "└ @ RCall /Users/Randy/.julia/packages/RCall/g7dhB/src/io.jl:113\n"
     ]
    }
   ],
   "source": [
    "R\"\"\"\n",
    "library(ggplot2)\n",
    "ggplot($D, aes(x, y)) + geom_point() + geom_smooth()\n",
    "\"\"\""
   ]
  },
  {
   "cell_type": "markdown",
   "metadata": {
    "slideshow": {
     "slide_type": "slide"
    }
   },
   "source": [
    "## Summary"
   ]
  },
  {
   "cell_type": "markdown",
   "metadata": {},
   "source": [
    "Julia is a very powerful programming language for Mathematicians/Statisticians/Scientists.\n",
    "\n",
    "Please download it and have some try."
   ]
  }
 ],
 "metadata": {
  "celltoolbar": "Slideshow",
  "kernelspec": {
   "display_name": "Julia 1.2.0",
   "language": "julia",
   "name": "julia-1.2"
  },
  "language_info": {
   "file_extension": ".jl",
   "mimetype": "application/julia",
   "name": "julia",
   "version": "1.2.0"
  },
  "toc": {
   "base_numbering": 1,
   "nav_menu": {},
   "number_sections": true,
   "sideBar": true,
   "skip_h1_title": false,
   "title_cell": "Table of Contents",
   "title_sidebar": "Contents",
   "toc_cell": true,
   "toc_position": {},
   "toc_section_display": true,
   "toc_window_display": false
  }
 },
 "nbformat": 4,
 "nbformat_minor": 2
}
